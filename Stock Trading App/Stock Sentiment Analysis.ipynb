{
 "cells": [
  {
   "cell_type": "code",
   "execution_count": 1,
   "id": "db3d0049",
   "metadata": {},
   "outputs": [],
   "source": [
    "# Web Scraping tools\n",
    "from urllib.request import urlopen, Request\n",
    "from bs4 import BeautifulSoup\n",
    "import plotly.express as px\n",
    "import pandas as pd\n",
    "\n",
    "# VADER for Sentiment Analysis\n",
    "import nltk\n",
    "from nltk.sentiment.vader import SentimentIntensityAnalyzer\n",
    "\n",
    "# for extracting data from finviz\n",
    "finviz_url = 'https://finviz.com/quote.ashx?t='"
   ]
  },
  {
   "cell_type": "code",
   "execution_count": 3,
   "id": "4b9fdd7b",
   "metadata": {},
   "outputs": [],
   "source": [
    "def get_news(ticker):\n",
    "    url = finviz_url + ticker\n",
    "    req = Request(url=url,headers={'User-Agent': 'Mozilla/5.0 (Windows NT 6.1; WOW64; rv:20.0) Gecko/20100101 Firefox/20.0'}) \n",
    "    response = urlopen(req)  \n",
    "    # Read the contents of the file into 'html'\n",
    "    html = BeautifulSoup(response)\n",
    "    # Find 'news-table' in the Soup and load it into 'news_table'\n",
    "    news_table = html.find(id='news-table')\n",
    "    return news_table\n",
    "\n",
    "ticker = 'AAPL'\n",
    "news_table = get_news(ticker)"
   ]
  },
  {
   "cell_type": "code",
   "execution_count": 4,
   "id": "592fe811",
   "metadata": {
    "scrolled": true
   },
   "outputs": [
    {
     "name": "stdout",
     "output_type": "stream",
     "text": [
      "Apple Turns to the Pros\n",
      "1 Move That Could Supercharge Apple's iPhone Revenue\n",
      "Don't Worry About Stock-Picking Accuracy When You're Swinging for a Home Run\n",
      "2 Beaten-Down Value Stocks That Could Crush the Market\n",
      "Europe Considers Making Big Tech Pay for Building the Internet\n",
      "Tim Cook and Apple Make a Move That Could Annoy China\n",
      "Netflix Makes an Apple and Amazon Mistake it Can't Afford to Copy\n",
      "Apple (AAPL) Gains As Market Dips: What You Should Know\n",
      "Apple iPhone 14 Pro Models Could Give Company A Profit Boost\n",
      "iPhone 14 Demand in China Weaker Than Expected, Jefferies Says\n",
      "Apple iPhone 14 demand trending ahead of iPhone 13: Wedbushs Dan Ives\n",
      "Alphabet (GOOGL) to Boost YouTube Music With New Capabilities\n",
      "TikTok Deal Remains Elusive as Biden Administration Works to Solve Data Concerns\n",
      "Author Morgan Housel Talks About Inflation, Buffett, Bear Markets, and More\n",
      "Stock market: Here's one veteran strategist's guess at a bear market bottom\n",
      "Apples iPhone 14 sales come up short in China, report says\n",
      "Why Apple Stock Rallied Monday Morning\n",
      "Stock Market Today: Dow Stumbles as Jump in Rates Rattles Markets\n",
      "Apple (AAPL) Starts Producing iPhone 14 in India Ahead of Time\n",
      "iPhone 14 will be made in India, Apple announces\n",
      "Dow Jones Continues To Fall As Stock Market Correction Worsens; Treasury Yields Surge\n",
      "Tesla's Stock Emerges as Unlikely Megacap Rival to Apple\n",
      "Why I'm More Excited Than Ever About Disney Stock\n",
      "2 Growth Stocks Down 14% to 28% to Buy and Hold Forever\n",
      "Factors to Note Ahead of Micron Technology's (MU) Q4 Earnings\n",
      "Key Factors to Note Ahead of TD SYNNEX's (SNX) Q3 Earnings\n",
      "Apple to make iPhone 14 in India\n",
      "10 Most Shorted Stocks in 2022\n",
      "Dow Jones Futures Fall As Yields Rise, Pound Hits Record Low; Bear Market Eyes New Leg Down\n",
      "5G Stocks To Buy And Watch As U.S. Plays Catch-Up Versus China\n",
      "Tech Stocks Face Another 10% Drop or More as Strong Dollar Hits Profits\n",
      "Dow Jones Futures Fall As Yields Rise, Pound Dives To Record Low; Bear Market Eyes New Leg Down\n",
      "Apples controversial Pay Later innovation may not come until next year because of technical difficulties\n",
      "Apple expands iPhone production in India in shift away from China\n",
      "Are Any of the FAANG Stocks Worth Buying?\n",
      "3 Bargain Stocks You Can Buy Today and Hold Forever\n",
      "Apple Analyst Finds iPhone 14 Less Popular With Chinese Customers, Initial Data Suggests\n",
      "Improving lives: Tim Cook on Apples pledge to help Black creatives in the UK\n",
      "Stock Market Sell-Off: 2 Safe Tech Stocks to Buy Now and Hold Forever\n",
      "Apple Begins Making iPhone 14 in India Weeks Ahead of Schedule\n",
      "Exclusive-India's push for home-grown navigation system jolts smartphone giants\n",
      "New iPhones Initial China Sales Lag Predecessor, Jefferies Says\n",
      "UPDATE 1-Apple says it will manufacture iPhone 14 in India\n",
      "Apple says it will manufacture iPhone 14 in India\n",
      "Rihanna to Headline the NFLs Super Bowl Halftime Show\n",
      "Why Is Everyone Talking About Apple?\n",
      "Better Software Stock: Adobe vs. Unity\n",
      "With Apple Threatening, Is It Time to Sell Garmin?\n",
      "Weekly Roundup\n",
      "Apple TV+ set to exclusively host historic Yankees game\n",
      "Apple Music replaces Pepsi as new sponsor of Super Bowl halftime show\n",
      "Record Bearish Bets Hit Bilibili Even After 90% Dive\n",
      "Apple set to break average iPhone price record twice in coming months\n",
      "Aaron Judge Could Make History Friday Night but It Wont Be on Broadcast TV\n",
      "Tech stocks search for direction amid tech sell-off volatility\n",
      "Apple Music Super Bowl Halftime Show 'another sign that Cupertino will be aggressive' in sports: Wedbush's Ives\n",
      "Meta is desperate to fight back against Apples privacy changes\n",
      "Why Meta Platforms Stock Fell Early on Friday\n",
      "10 Best ETFs to Diversify Your Portfolio and Avoid Risks\n",
      "Why Apple Stock Slumped Friday Morning -- but Shouldn't Have\n",
      "NFL selects Apple Music as Super Bowl halftime sponsor\n",
      "Apple iPhone 14 targeting those who upgraded 3, 4, 5 years ago, IDC VP says\n",
      "Apple Music to Replace Pepsi as Sponsor of NFLs Super Bowl Halftime Show\n",
      "Apple replaces Pepsi as NFL Super Bowl Halftime sponsor\n",
      "Dow Jones Sells Off Ahead Of Powell Comments As Recession Fears Mount\n",
      "Apple: A Worst Case Technical Story\n",
      "iPhone 14s most iconic feature is now available on Android\n",
      "Does Apple (NASDAQ:AAPL) Deserve A Spot On Your Watchlist?\n",
      "Apple Resolves iPhone 14 Pro Camera Glitch, As Promised\n",
      "Will Microsoft Be Worth More Than Apple by 2025?\n",
      "Stocks Extend Slide, Costco, DocuSign, Boeing, Apple in Focus - 5 Things To Know\n",
      "Costco, FedEx, Boeing Fall Premarket; Raytheon, FuboTV Rise\n",
      "Apple Music Takes Over Pepsi as Presenter of Super Bowl Halftime Show\n",
      "UPDATE 2-Apple will sponsor Super Bowl halftime show starting in February\n",
      "Alphabet (GOOGL) Embeds Google Tasks With Assistant to Ease Job\n",
      "Apple Fixes iPhone 14 Pro Camera-Shake and Copy-and-Paste Bugs\n",
      "Senators Raise Concerns Over Apples Potential Deal With Chinese Chip Maker\n",
      "Meta tracked users without their consent by skirting Apples privacy features, lawsuit alleges\n",
      "Inflation Isn't Caused By Some Greedy Ebenezer Scrooge-Like Character\n",
      "US senators increase pressure on Apple over possible Chinese chipmaker deal\n",
      "That Which Drops the Most, Bounces the Most: Ken Fishers Top 10 Growth Stock Picks\n",
      "Meta Sued for Skirting Apple Privacy Rules to Snoop on Users\n",
      "Apple AirPods Pro review: Improved sound, controls make for Apples best ear buds yet\n",
      "Stock Market Slump: Should You Really Buy Roku Stock?\n",
      "My 3 Favorite Stocks Right Now\n",
      "Should You Really Buy Apple Stock?\n",
      "2 Monster Stocks to Buy Without Any Hesitation\n",
      "8 best VPN services for browsing securely in 2022\n",
      "AirPods Pro 2nd-Gen Review: Better Noise Canceling, Easier to Find When Lost\n",
      "Investors Find a Lot to Like in Tech, Even as a Market Bottom Remains Elusive\n",
      "10 Stocks to Buy According to Bulldog Investors\n",
      "2 Cheap Dow Jones Stocks to Buy Hand Over Fist, and 1 to Avoid\n",
      "Apple AirPods Pro add better sound, improved controls to Apples best earbuds\n",
      "Apple Watch Ultra Review: Better Battery Life, but Not Quite Extreme\n",
      "Apple AirPods Pro Second-Gen Review: Impressive All-Around\n",
      "3 Beaten-Down Nasdaq Stocks You'll Regret Not Buying the Dip On\n",
      "Apple, Google Buybacks Top U.S. Companies As Repurchases Fall Nearly 22%\n",
      "Oops! Apple Forgot to Tell Us About the iPhone 14's Best Feature\n",
      "This Digital Ad Software Tech Stock Is Beating the Nasdaq Index -- Is It a Buy?\n",
      "If I Could Buy Just 1 Stock Right Now, Apple Would Be It. Here's Why.\n"
     ]
    }
   ],
   "source": [
    "# parse news into dataframe\n",
    "def parse_news(news_table):\n",
    "    parsed_news = []\n",
    "    \n",
    "    for x in news_table.findAll('tr'):\n",
    "        # read the text from each tr tag into text\n",
    "        # get text from a only\n",
    "        text = x.a.get_text()\n",
    "        # split text in the td tag into a list \n",
    "        date_scrape = x.td.text.split()\n",
    "        # if the length of 'date_scrape' is 1, load 'time' as the only element\n",
    "\n",
    "        if len(date_scrape) == 1:\n",
    "            time = date_scrape[0]\n",
    "            \n",
    "        # else load 'date' as the 1st element and 'time' as the second    \n",
    "        else:\n",
    "            date = date_scrape[0]\n",
    "            time = date_scrape[1]\n",
    "        \n",
    "        # Append ticker, date, time and headline as a list to the 'parsed_news' list\n",
    "        parsed_news.append([date, time, text])        \n",
    "        # Set column names\n",
    "        columns = ['date', 'time', 'headline']\n",
    "        # Convert the parsed_news list into a DataFrame called 'parsed_and_scored_news'\n",
    "        parsed_news_df = pd.DataFrame(parsed_news, columns=columns)        \n",
    "        # Create a pandas datetime object from the strings in 'date' and 'time' column\n",
    "        parsed_news_df['datetime'] = pd.to_datetime(parsed_news_df['date'] + ' ' + parsed_news_df['time'])\n",
    "        \n",
    "    return parsed_news_df\n",
    "        \n",
    "parsed_news_df = parse_news(news_table)"
   ]
  },
  {
   "cell_type": "code",
   "execution_count": 36,
   "id": "da1edd0b",
   "metadata": {},
   "outputs": [],
   "source": [
    "# Instantiate the sentiment intensity analyzer\n",
    "new_words = {\n",
    "'crushes': 10,\n",
    "'beats': 5,\n",
    "'misses': -5,\n",
    "'trouble': -10,\n",
    "'falls': -100,\n",
    "'drop': -10,\n",
    "'crash': -10,\n",
    "'bearish': -10,\n",
    "'bear': -5}\n",
    "vader = SentimentIntensityAnalyzer()\n",
    "vader.lexicon.update(new_words)"
   ]
  },
  {
   "cell_type": "code",
   "execution_count": 37,
   "id": "35f6900e",
   "metadata": {},
   "outputs": [
    {
     "data": {
      "text/html": [
       "<div>\n",
       "<style scoped>\n",
       "    .dataframe tbody tr th:only-of-type {\n",
       "        vertical-align: middle;\n",
       "    }\n",
       "\n",
       "    .dataframe tbody tr th {\n",
       "        vertical-align: top;\n",
       "    }\n",
       "\n",
       "    .dataframe thead th {\n",
       "        text-align: right;\n",
       "    }\n",
       "</style>\n",
       "<table border=\"1\" class=\"dataframe\">\n",
       "  <thead>\n",
       "    <tr style=\"text-align: right;\">\n",
       "      <th></th>\n",
       "      <th>headline</th>\n",
       "      <th>neg</th>\n",
       "      <th>neu</th>\n",
       "      <th>pos</th>\n",
       "      <th>sentiment_score</th>\n",
       "    </tr>\n",
       "    <tr>\n",
       "      <th>datetime</th>\n",
       "      <th></th>\n",
       "      <th></th>\n",
       "      <th></th>\n",
       "      <th></th>\n",
       "      <th></th>\n",
       "    </tr>\n",
       "  </thead>\n",
       "  <tbody>\n",
       "    <tr>\n",
       "      <th>2022-09-26 03:48:00</th>\n",
       "      <td>Apple Begins Making iPhone 14 in India Weeks A...</td>\n",
       "      <td>0.000</td>\n",
       "      <td>1.000</td>\n",
       "      <td>0.000</td>\n",
       "      <td>0.0000</td>\n",
       "    </tr>\n",
       "    <tr>\n",
       "      <th>2022-09-26 03:46:00</th>\n",
       "      <td>Exclusive-India's push for home-grown navigati...</td>\n",
       "      <td>0.000</td>\n",
       "      <td>1.000</td>\n",
       "      <td>0.000</td>\n",
       "      <td>0.0000</td>\n",
       "    </tr>\n",
       "    <tr>\n",
       "      <th>2022-09-26 02:05:00</th>\n",
       "      <td>New iPhones Initial China Sales Lag Predecesso...</td>\n",
       "      <td>0.231</td>\n",
       "      <td>0.769</td>\n",
       "      <td>0.000</td>\n",
       "      <td>-0.3400</td>\n",
       "    </tr>\n",
       "    <tr>\n",
       "      <th>2022-09-26 01:31:00</th>\n",
       "      <td>UPDATE 1-Apple says it will manufacture iPhone...</td>\n",
       "      <td>0.000</td>\n",
       "      <td>1.000</td>\n",
       "      <td>0.000</td>\n",
       "      <td>0.0000</td>\n",
       "    </tr>\n",
       "    <tr>\n",
       "      <th>2022-09-26 01:16:00</th>\n",
       "      <td>Tech Stocks Face Another 10% Drop or More as S...</td>\n",
       "      <td>0.400</td>\n",
       "      <td>0.364</td>\n",
       "      <td>0.236</td>\n",
       "      <td>-0.8187</td>\n",
       "    </tr>\n",
       "  </tbody>\n",
       "</table>\n",
       "</div>"
      ],
      "text/plain": [
       "                                                              headline    neg  \\\n",
       "datetime                                                                        \n",
       "2022-09-26 03:48:00  Apple Begins Making iPhone 14 in India Weeks A...  0.000   \n",
       "2022-09-26 03:46:00  Exclusive-India's push for home-grown navigati...  0.000   \n",
       "2022-09-26 02:05:00  New iPhones Initial China Sales Lag Predecesso...  0.231   \n",
       "2022-09-26 01:31:00  UPDATE 1-Apple says it will manufacture iPhone...  0.000   \n",
       "2022-09-26 01:16:00  Tech Stocks Face Another 10% Drop or More as S...  0.400   \n",
       "\n",
       "                       neu    pos  sentiment_score  \n",
       "datetime                                            \n",
       "2022-09-26 03:48:00  1.000  0.000           0.0000  \n",
       "2022-09-26 03:46:00  1.000  0.000           0.0000  \n",
       "2022-09-26 02:05:00  0.769  0.000          -0.3400  \n",
       "2022-09-26 01:31:00  1.000  0.000           0.0000  \n",
       "2022-09-26 01:16:00  0.364  0.236          -0.8187  "
      ]
     },
     "execution_count": 37,
     "metadata": {},
     "output_type": "execute_result"
    }
   ],
   "source": [
    "def score_news(parsed_news_df):\n",
    "    \n",
    "    # Iterate through the headlines and get the polarity scores using vader\n",
    "    scores = parsed_news_df['headline'].apply(vader.polarity_scores).tolist()\n",
    "    # Convert the 'scores' list of dicts into a DataFrame\n",
    "    scores_df = pd.DataFrame(scores)\n",
    "\n",
    "    # Join the DataFrames of the news and the list of dicts\n",
    "    parsed_and_scored_news = parsed_news_df.join(scores_df)        \n",
    "    parsed_and_scored_news = parsed_and_scored_news.set_index('datetime')    \n",
    "    parsed_and_scored_news = parsed_and_scored_news.drop(['date', 'time'],axis= 1)          \n",
    "    parsed_and_scored_news = parsed_and_scored_news.rename(columns={\"compound\": \"sentiment_score\"})\n",
    "\n",
    "    return parsed_and_scored_news\n",
    "\n",
    "parsed_and_scored_news = score_news(parsed_news_df)\n",
    "parsed_and_scored_news.head()"
   ]
  },
  {
   "cell_type": "code",
   "execution_count": 8,
   "id": "53812fe0",
   "metadata": {},
   "outputs": [],
   "source": [
    "def plot_hourly_sentiment(parsed_and_scored_news, ticker):\n",
    "   \n",
    "    # Group by date and ticker columns from scored_news and calculate the mean\n",
    "    mean_scores = parsed_and_scored_news.resample('H').mean()\n",
    "\n",
    "    # Plot a bar chart with plotly \n",
    "    fig = px.bar(mean_scores, x=mean_scores.index, y='sentiment_score', title = ticker + ' Hourly Sentiment Scores')\n",
    "    fig.show()"
   ]
  },
  {
   "cell_type": "code",
   "execution_count": 7,
   "id": "e9bed01e",
   "metadata": {},
   "outputs": [
    {
     "data": {
      "application/vnd.plotly.v1+json": {
       "config": {
        "plotlyServerURL": "https://plot.ly"
       },
       "data": [
        {
         "alignmentgroup": "True",
         "hovertemplate": "datetime=%{x}<br>sentiment_score=%{y}<extra></extra>",
         "legendgroup": "",
         "marker": {
          "color": "#636efa",
          "pattern": {
           "shape": ""
          }
         },
         "name": "",
         "offsetgroup": "",
         "orientation": "v",
         "showlegend": false,
         "textposition": "auto",
         "type": "bar",
         "x": [
          "2022-09-21T05:00:00",
          "2022-09-21T06:00:00",
          "2022-09-21T07:00:00",
          "2022-09-21T08:00:00",
          "2022-09-21T09:00:00",
          "2022-09-21T10:00:00",
          "2022-09-21T11:00:00",
          "2022-09-21T12:00:00",
          "2022-09-21T13:00:00",
          "2022-09-21T14:00:00",
          "2022-09-21T15:00:00",
          "2022-09-21T16:00:00",
          "2022-09-21T17:00:00",
          "2022-09-21T18:00:00",
          "2022-09-21T19:00:00",
          "2022-09-21T20:00:00",
          "2022-09-21T21:00:00",
          "2022-09-21T22:00:00",
          "2022-09-21T23:00:00",
          "2022-09-22T00:00:00",
          "2022-09-22T01:00:00",
          "2022-09-22T02:00:00",
          "2022-09-22T03:00:00",
          "2022-09-22T04:00:00",
          "2022-09-22T05:00:00",
          "2022-09-22T06:00:00",
          "2022-09-22T07:00:00",
          "2022-09-22T08:00:00",
          "2022-09-22T09:00:00",
          "2022-09-22T10:00:00",
          "2022-09-22T11:00:00",
          "2022-09-22T12:00:00",
          "2022-09-22T13:00:00",
          "2022-09-22T14:00:00",
          "2022-09-22T15:00:00",
          "2022-09-22T16:00:00",
          "2022-09-22T17:00:00",
          "2022-09-22T18:00:00",
          "2022-09-22T19:00:00",
          "2022-09-22T20:00:00",
          "2022-09-22T21:00:00",
          "2022-09-22T22:00:00",
          "2022-09-22T23:00:00",
          "2022-09-23T00:00:00",
          "2022-09-23T01:00:00",
          "2022-09-23T02:00:00",
          "2022-09-23T03:00:00",
          "2022-09-23T04:00:00",
          "2022-09-23T05:00:00",
          "2022-09-23T06:00:00",
          "2022-09-23T07:00:00",
          "2022-09-23T08:00:00",
          "2022-09-23T09:00:00",
          "2022-09-23T10:00:00",
          "2022-09-23T11:00:00",
          "2022-09-23T12:00:00",
          "2022-09-23T13:00:00",
          "2022-09-23T14:00:00",
          "2022-09-23T15:00:00",
          "2022-09-23T16:00:00",
          "2022-09-23T17:00:00",
          "2022-09-23T18:00:00",
          "2022-09-23T19:00:00",
          "2022-09-23T20:00:00",
          "2022-09-23T21:00:00",
          "2022-09-23T22:00:00",
          "2022-09-23T23:00:00",
          "2022-09-24T00:00:00",
          "2022-09-24T01:00:00",
          "2022-09-24T02:00:00",
          "2022-09-24T03:00:00",
          "2022-09-24T04:00:00",
          "2022-09-24T05:00:00",
          "2022-09-24T06:00:00",
          "2022-09-24T07:00:00",
          "2022-09-24T08:00:00",
          "2022-09-24T09:00:00",
          "2022-09-24T10:00:00",
          "2022-09-24T11:00:00",
          "2022-09-24T12:00:00",
          "2022-09-24T13:00:00",
          "2022-09-24T14:00:00",
          "2022-09-24T15:00:00",
          "2022-09-24T16:00:00",
          "2022-09-24T17:00:00",
          "2022-09-24T18:00:00",
          "2022-09-24T19:00:00",
          "2022-09-24T20:00:00",
          "2022-09-24T21:00:00",
          "2022-09-24T22:00:00",
          "2022-09-24T23:00:00",
          "2022-09-25T00:00:00",
          "2022-09-25T01:00:00",
          "2022-09-25T02:00:00",
          "2022-09-25T03:00:00",
          "2022-09-25T04:00:00",
          "2022-09-25T05:00:00",
          "2022-09-25T06:00:00",
          "2022-09-25T07:00:00",
          "2022-09-25T08:00:00",
          "2022-09-25T09:00:00",
          "2022-09-25T10:00:00",
          "2022-09-25T11:00:00",
          "2022-09-25T12:00:00",
          "2022-09-25T13:00:00",
          "2022-09-25T14:00:00",
          "2022-09-25T15:00:00",
          "2022-09-25T16:00:00",
          "2022-09-25T17:00:00",
          "2022-09-25T18:00:00",
          "2022-09-25T19:00:00",
          "2022-09-25T20:00:00",
          "2022-09-25T21:00:00",
          "2022-09-25T22:00:00",
          "2022-09-25T23:00:00",
          "2022-09-26T00:00:00",
          "2022-09-26T01:00:00"
         ],
         "xaxis": "x",
         "y": [
          0.08895,
          0.4215,
          0.2307,
          0,
          0.38355,
          0.09875000000000003,
          0.49274999999999997,
          0.6705,
          null,
          -0.18975,
          0.1779,
          0.1591,
          null,
          0.03356666666666667,
          null,
          -0.3612,
          0.1779,
          0.1779,
          null,
          null,
          null,
          null,
          0.1779,
          null,
          0.309775,
          0.0772,
          0.11440000000000002,
          0.22630000000000003,
          0.11210000000000002,
          0.29769999999999996,
          -0.13316666666666668,
          -0.0258,
          null,
          null,
          0.18200000000000002,
          0.09732500000000001,
          0.1779,
          -0.0258,
          null,
          -0.296,
          null,
          null,
          null,
          null,
          null,
          null,
          null,
          0,
          0.47353333333333336,
          0.5574,
          0.7096,
          null,
          0.34,
          0.36765000000000003,
          -0.06425,
          null,
          null,
          null,
          0.08895,
          0.158,
          -0.1329,
          null,
          null,
          null,
          null,
          null,
          null,
          null,
          null,
          null,
          null,
          null,
          null,
          null,
          null,
          null,
          0.1909,
          -0.12019999999999997,
          null,
          null,
          null,
          null,
          null,
          0.1779,
          null,
          null,
          null,
          null,
          null,
          null,
          null,
          null,
          null,
          null,
          null,
          null,
          0.3612,
          0.2787,
          0.3818,
          null,
          0.0772,
          null,
          0,
          null,
          null,
          null,
          null,
          null,
          null,
          null,
          null,
          null,
          null,
          null,
          null,
          null,
          0.62485
         ],
         "yaxis": "y"
        }
       ],
       "layout": {
        "barmode": "relative",
        "legend": {
         "tracegroupgap": 0
        },
        "template": {
         "data": {
          "bar": [
           {
            "error_x": {
             "color": "#2a3f5f"
            },
            "error_y": {
             "color": "#2a3f5f"
            },
            "marker": {
             "line": {
              "color": "#E5ECF6",
              "width": 0.5
             },
             "pattern": {
              "fillmode": "overlay",
              "size": 10,
              "solidity": 0.2
             }
            },
            "type": "bar"
           }
          ],
          "barpolar": [
           {
            "marker": {
             "line": {
              "color": "#E5ECF6",
              "width": 0.5
             },
             "pattern": {
              "fillmode": "overlay",
              "size": 10,
              "solidity": 0.2
             }
            },
            "type": "barpolar"
           }
          ],
          "carpet": [
           {
            "aaxis": {
             "endlinecolor": "#2a3f5f",
             "gridcolor": "white",
             "linecolor": "white",
             "minorgridcolor": "white",
             "startlinecolor": "#2a3f5f"
            },
            "baxis": {
             "endlinecolor": "#2a3f5f",
             "gridcolor": "white",
             "linecolor": "white",
             "minorgridcolor": "white",
             "startlinecolor": "#2a3f5f"
            },
            "type": "carpet"
           }
          ],
          "choropleth": [
           {
            "colorbar": {
             "outlinewidth": 0,
             "ticks": ""
            },
            "type": "choropleth"
           }
          ],
          "contour": [
           {
            "colorbar": {
             "outlinewidth": 0,
             "ticks": ""
            },
            "colorscale": [
             [
              0,
              "#0d0887"
             ],
             [
              0.1111111111111111,
              "#46039f"
             ],
             [
              0.2222222222222222,
              "#7201a8"
             ],
             [
              0.3333333333333333,
              "#9c179e"
             ],
             [
              0.4444444444444444,
              "#bd3786"
             ],
             [
              0.5555555555555556,
              "#d8576b"
             ],
             [
              0.6666666666666666,
              "#ed7953"
             ],
             [
              0.7777777777777778,
              "#fb9f3a"
             ],
             [
              0.8888888888888888,
              "#fdca26"
             ],
             [
              1,
              "#f0f921"
             ]
            ],
            "type": "contour"
           }
          ],
          "contourcarpet": [
           {
            "colorbar": {
             "outlinewidth": 0,
             "ticks": ""
            },
            "type": "contourcarpet"
           }
          ],
          "heatmap": [
           {
            "colorbar": {
             "outlinewidth": 0,
             "ticks": ""
            },
            "colorscale": [
             [
              0,
              "#0d0887"
             ],
             [
              0.1111111111111111,
              "#46039f"
             ],
             [
              0.2222222222222222,
              "#7201a8"
             ],
             [
              0.3333333333333333,
              "#9c179e"
             ],
             [
              0.4444444444444444,
              "#bd3786"
             ],
             [
              0.5555555555555556,
              "#d8576b"
             ],
             [
              0.6666666666666666,
              "#ed7953"
             ],
             [
              0.7777777777777778,
              "#fb9f3a"
             ],
             [
              0.8888888888888888,
              "#fdca26"
             ],
             [
              1,
              "#f0f921"
             ]
            ],
            "type": "heatmap"
           }
          ],
          "heatmapgl": [
           {
            "colorbar": {
             "outlinewidth": 0,
             "ticks": ""
            },
            "colorscale": [
             [
              0,
              "#0d0887"
             ],
             [
              0.1111111111111111,
              "#46039f"
             ],
             [
              0.2222222222222222,
              "#7201a8"
             ],
             [
              0.3333333333333333,
              "#9c179e"
             ],
             [
              0.4444444444444444,
              "#bd3786"
             ],
             [
              0.5555555555555556,
              "#d8576b"
             ],
             [
              0.6666666666666666,
              "#ed7953"
             ],
             [
              0.7777777777777778,
              "#fb9f3a"
             ],
             [
              0.8888888888888888,
              "#fdca26"
             ],
             [
              1,
              "#f0f921"
             ]
            ],
            "type": "heatmapgl"
           }
          ],
          "histogram": [
           {
            "marker": {
             "pattern": {
              "fillmode": "overlay",
              "size": 10,
              "solidity": 0.2
             }
            },
            "type": "histogram"
           }
          ],
          "histogram2d": [
           {
            "colorbar": {
             "outlinewidth": 0,
             "ticks": ""
            },
            "colorscale": [
             [
              0,
              "#0d0887"
             ],
             [
              0.1111111111111111,
              "#46039f"
             ],
             [
              0.2222222222222222,
              "#7201a8"
             ],
             [
              0.3333333333333333,
              "#9c179e"
             ],
             [
              0.4444444444444444,
              "#bd3786"
             ],
             [
              0.5555555555555556,
              "#d8576b"
             ],
             [
              0.6666666666666666,
              "#ed7953"
             ],
             [
              0.7777777777777778,
              "#fb9f3a"
             ],
             [
              0.8888888888888888,
              "#fdca26"
             ],
             [
              1,
              "#f0f921"
             ]
            ],
            "type": "histogram2d"
           }
          ],
          "histogram2dcontour": [
           {
            "colorbar": {
             "outlinewidth": 0,
             "ticks": ""
            },
            "colorscale": [
             [
              0,
              "#0d0887"
             ],
             [
              0.1111111111111111,
              "#46039f"
             ],
             [
              0.2222222222222222,
              "#7201a8"
             ],
             [
              0.3333333333333333,
              "#9c179e"
             ],
             [
              0.4444444444444444,
              "#bd3786"
             ],
             [
              0.5555555555555556,
              "#d8576b"
             ],
             [
              0.6666666666666666,
              "#ed7953"
             ],
             [
              0.7777777777777778,
              "#fb9f3a"
             ],
             [
              0.8888888888888888,
              "#fdca26"
             ],
             [
              1,
              "#f0f921"
             ]
            ],
            "type": "histogram2dcontour"
           }
          ],
          "mesh3d": [
           {
            "colorbar": {
             "outlinewidth": 0,
             "ticks": ""
            },
            "type": "mesh3d"
           }
          ],
          "parcoords": [
           {
            "line": {
             "colorbar": {
              "outlinewidth": 0,
              "ticks": ""
             }
            },
            "type": "parcoords"
           }
          ],
          "pie": [
           {
            "automargin": true,
            "type": "pie"
           }
          ],
          "scatter": [
           {
            "fillpattern": {
             "fillmode": "overlay",
             "size": 10,
             "solidity": 0.2
            },
            "type": "scatter"
           }
          ],
          "scatter3d": [
           {
            "line": {
             "colorbar": {
              "outlinewidth": 0,
              "ticks": ""
             }
            },
            "marker": {
             "colorbar": {
              "outlinewidth": 0,
              "ticks": ""
             }
            },
            "type": "scatter3d"
           }
          ],
          "scattercarpet": [
           {
            "marker": {
             "colorbar": {
              "outlinewidth": 0,
              "ticks": ""
             }
            },
            "type": "scattercarpet"
           }
          ],
          "scattergeo": [
           {
            "marker": {
             "colorbar": {
              "outlinewidth": 0,
              "ticks": ""
             }
            },
            "type": "scattergeo"
           }
          ],
          "scattergl": [
           {
            "marker": {
             "colorbar": {
              "outlinewidth": 0,
              "ticks": ""
             }
            },
            "type": "scattergl"
           }
          ],
          "scattermapbox": [
           {
            "marker": {
             "colorbar": {
              "outlinewidth": 0,
              "ticks": ""
             }
            },
            "type": "scattermapbox"
           }
          ],
          "scatterpolar": [
           {
            "marker": {
             "colorbar": {
              "outlinewidth": 0,
              "ticks": ""
             }
            },
            "type": "scatterpolar"
           }
          ],
          "scatterpolargl": [
           {
            "marker": {
             "colorbar": {
              "outlinewidth": 0,
              "ticks": ""
             }
            },
            "type": "scatterpolargl"
           }
          ],
          "scatterternary": [
           {
            "marker": {
             "colorbar": {
              "outlinewidth": 0,
              "ticks": ""
             }
            },
            "type": "scatterternary"
           }
          ],
          "surface": [
           {
            "colorbar": {
             "outlinewidth": 0,
             "ticks": ""
            },
            "colorscale": [
             [
              0,
              "#0d0887"
             ],
             [
              0.1111111111111111,
              "#46039f"
             ],
             [
              0.2222222222222222,
              "#7201a8"
             ],
             [
              0.3333333333333333,
              "#9c179e"
             ],
             [
              0.4444444444444444,
              "#bd3786"
             ],
             [
              0.5555555555555556,
              "#d8576b"
             ],
             [
              0.6666666666666666,
              "#ed7953"
             ],
             [
              0.7777777777777778,
              "#fb9f3a"
             ],
             [
              0.8888888888888888,
              "#fdca26"
             ],
             [
              1,
              "#f0f921"
             ]
            ],
            "type": "surface"
           }
          ],
          "table": [
           {
            "cells": {
             "fill": {
              "color": "#EBF0F8"
             },
             "line": {
              "color": "white"
             }
            },
            "header": {
             "fill": {
              "color": "#C8D4E3"
             },
             "line": {
              "color": "white"
             }
            },
            "type": "table"
           }
          ]
         },
         "layout": {
          "annotationdefaults": {
           "arrowcolor": "#2a3f5f",
           "arrowhead": 0,
           "arrowwidth": 1
          },
          "autotypenumbers": "strict",
          "coloraxis": {
           "colorbar": {
            "outlinewidth": 0,
            "ticks": ""
           }
          },
          "colorscale": {
           "diverging": [
            [
             0,
             "#8e0152"
            ],
            [
             0.1,
             "#c51b7d"
            ],
            [
             0.2,
             "#de77ae"
            ],
            [
             0.3,
             "#f1b6da"
            ],
            [
             0.4,
             "#fde0ef"
            ],
            [
             0.5,
             "#f7f7f7"
            ],
            [
             0.6,
             "#e6f5d0"
            ],
            [
             0.7,
             "#b8e186"
            ],
            [
             0.8,
             "#7fbc41"
            ],
            [
             0.9,
             "#4d9221"
            ],
            [
             1,
             "#276419"
            ]
           ],
           "sequential": [
            [
             0,
             "#0d0887"
            ],
            [
             0.1111111111111111,
             "#46039f"
            ],
            [
             0.2222222222222222,
             "#7201a8"
            ],
            [
             0.3333333333333333,
             "#9c179e"
            ],
            [
             0.4444444444444444,
             "#bd3786"
            ],
            [
             0.5555555555555556,
             "#d8576b"
            ],
            [
             0.6666666666666666,
             "#ed7953"
            ],
            [
             0.7777777777777778,
             "#fb9f3a"
            ],
            [
             0.8888888888888888,
             "#fdca26"
            ],
            [
             1,
             "#f0f921"
            ]
           ],
           "sequentialminus": [
            [
             0,
             "#0d0887"
            ],
            [
             0.1111111111111111,
             "#46039f"
            ],
            [
             0.2222222222222222,
             "#7201a8"
            ],
            [
             0.3333333333333333,
             "#9c179e"
            ],
            [
             0.4444444444444444,
             "#bd3786"
            ],
            [
             0.5555555555555556,
             "#d8576b"
            ],
            [
             0.6666666666666666,
             "#ed7953"
            ],
            [
             0.7777777777777778,
             "#fb9f3a"
            ],
            [
             0.8888888888888888,
             "#fdca26"
            ],
            [
             1,
             "#f0f921"
            ]
           ]
          },
          "colorway": [
           "#636efa",
           "#EF553B",
           "#00cc96",
           "#ab63fa",
           "#FFA15A",
           "#19d3f3",
           "#FF6692",
           "#B6E880",
           "#FF97FF",
           "#FECB52"
          ],
          "font": {
           "color": "#2a3f5f"
          },
          "geo": {
           "bgcolor": "white",
           "lakecolor": "white",
           "landcolor": "#E5ECF6",
           "showlakes": true,
           "showland": true,
           "subunitcolor": "white"
          },
          "hoverlabel": {
           "align": "left"
          },
          "hovermode": "closest",
          "mapbox": {
           "style": "light"
          },
          "paper_bgcolor": "white",
          "plot_bgcolor": "#E5ECF6",
          "polar": {
           "angularaxis": {
            "gridcolor": "white",
            "linecolor": "white",
            "ticks": ""
           },
           "bgcolor": "#E5ECF6",
           "radialaxis": {
            "gridcolor": "white",
            "linecolor": "white",
            "ticks": ""
           }
          },
          "scene": {
           "xaxis": {
            "backgroundcolor": "#E5ECF6",
            "gridcolor": "white",
            "gridwidth": 2,
            "linecolor": "white",
            "showbackground": true,
            "ticks": "",
            "zerolinecolor": "white"
           },
           "yaxis": {
            "backgroundcolor": "#E5ECF6",
            "gridcolor": "white",
            "gridwidth": 2,
            "linecolor": "white",
            "showbackground": true,
            "ticks": "",
            "zerolinecolor": "white"
           },
           "zaxis": {
            "backgroundcolor": "#E5ECF6",
            "gridcolor": "white",
            "gridwidth": 2,
            "linecolor": "white",
            "showbackground": true,
            "ticks": "",
            "zerolinecolor": "white"
           }
          },
          "shapedefaults": {
           "line": {
            "color": "#2a3f5f"
           }
          },
          "ternary": {
           "aaxis": {
            "gridcolor": "white",
            "linecolor": "white",
            "ticks": ""
           },
           "baxis": {
            "gridcolor": "white",
            "linecolor": "white",
            "ticks": ""
           },
           "bgcolor": "#E5ECF6",
           "caxis": {
            "gridcolor": "white",
            "linecolor": "white",
            "ticks": ""
           }
          },
          "title": {
           "x": 0.05
          },
          "xaxis": {
           "automargin": true,
           "gridcolor": "white",
           "linecolor": "white",
           "ticks": "",
           "title": {
            "standoff": 15
           },
           "zerolinecolor": "white",
           "zerolinewidth": 2
          },
          "yaxis": {
           "automargin": true,
           "gridcolor": "white",
           "linecolor": "white",
           "ticks": "",
           "title": {
            "standoff": 15
           },
           "zerolinecolor": "white",
           "zerolinewidth": 2
          }
         }
        },
        "title": {
         "text": "AMZN Hourly Sentiment Scores"
        },
        "xaxis": {
         "anchor": "y",
         "domain": [
          0,
          1
         ],
         "title": {
          "text": "datetime"
         }
        },
        "yaxis": {
         "anchor": "x",
         "domain": [
          0,
          1
         ],
         "title": {
          "text": "sentiment_score"
         }
        }
       }
      },
      "text/html": [
       "<div>                            <div id=\"a69091ea-0657-451d-82d1-2ac173015af3\" class=\"plotly-graph-div\" style=\"height:525px; width:100%;\"></div>            <script type=\"text/javascript\">                require([\"plotly\"], function(Plotly) {                    window.PLOTLYENV=window.PLOTLYENV || {};                                    if (document.getElementById(\"a69091ea-0657-451d-82d1-2ac173015af3\")) {                    Plotly.newPlot(                        \"a69091ea-0657-451d-82d1-2ac173015af3\",                        [{\"alignmentgroup\":\"True\",\"hovertemplate\":\"datetime=%{x}<br>sentiment_score=%{y}<extra></extra>\",\"legendgroup\":\"\",\"marker\":{\"color\":\"#636efa\",\"pattern\":{\"shape\":\"\"}},\"name\":\"\",\"offsetgroup\":\"\",\"orientation\":\"v\",\"showlegend\":false,\"textposition\":\"auto\",\"x\":[\"2022-09-21T05:00:00\",\"2022-09-21T06:00:00\",\"2022-09-21T07:00:00\",\"2022-09-21T08:00:00\",\"2022-09-21T09:00:00\",\"2022-09-21T10:00:00\",\"2022-09-21T11:00:00\",\"2022-09-21T12:00:00\",\"2022-09-21T13:00:00\",\"2022-09-21T14:00:00\",\"2022-09-21T15:00:00\",\"2022-09-21T16:00:00\",\"2022-09-21T17:00:00\",\"2022-09-21T18:00:00\",\"2022-09-21T19:00:00\",\"2022-09-21T20:00:00\",\"2022-09-21T21:00:00\",\"2022-09-21T22:00:00\",\"2022-09-21T23:00:00\",\"2022-09-22T00:00:00\",\"2022-09-22T01:00:00\",\"2022-09-22T02:00:00\",\"2022-09-22T03:00:00\",\"2022-09-22T04:00:00\",\"2022-09-22T05:00:00\",\"2022-09-22T06:00:00\",\"2022-09-22T07:00:00\",\"2022-09-22T08:00:00\",\"2022-09-22T09:00:00\",\"2022-09-22T10:00:00\",\"2022-09-22T11:00:00\",\"2022-09-22T12:00:00\",\"2022-09-22T13:00:00\",\"2022-09-22T14:00:00\",\"2022-09-22T15:00:00\",\"2022-09-22T16:00:00\",\"2022-09-22T17:00:00\",\"2022-09-22T18:00:00\",\"2022-09-22T19:00:00\",\"2022-09-22T20:00:00\",\"2022-09-22T21:00:00\",\"2022-09-22T22:00:00\",\"2022-09-22T23:00:00\",\"2022-09-23T00:00:00\",\"2022-09-23T01:00:00\",\"2022-09-23T02:00:00\",\"2022-09-23T03:00:00\",\"2022-09-23T04:00:00\",\"2022-09-23T05:00:00\",\"2022-09-23T06:00:00\",\"2022-09-23T07:00:00\",\"2022-09-23T08:00:00\",\"2022-09-23T09:00:00\",\"2022-09-23T10:00:00\",\"2022-09-23T11:00:00\",\"2022-09-23T12:00:00\",\"2022-09-23T13:00:00\",\"2022-09-23T14:00:00\",\"2022-09-23T15:00:00\",\"2022-09-23T16:00:00\",\"2022-09-23T17:00:00\",\"2022-09-23T18:00:00\",\"2022-09-23T19:00:00\",\"2022-09-23T20:00:00\",\"2022-09-23T21:00:00\",\"2022-09-23T22:00:00\",\"2022-09-23T23:00:00\",\"2022-09-24T00:00:00\",\"2022-09-24T01:00:00\",\"2022-09-24T02:00:00\",\"2022-09-24T03:00:00\",\"2022-09-24T04:00:00\",\"2022-09-24T05:00:00\",\"2022-09-24T06:00:00\",\"2022-09-24T07:00:00\",\"2022-09-24T08:00:00\",\"2022-09-24T09:00:00\",\"2022-09-24T10:00:00\",\"2022-09-24T11:00:00\",\"2022-09-24T12:00:00\",\"2022-09-24T13:00:00\",\"2022-09-24T14:00:00\",\"2022-09-24T15:00:00\",\"2022-09-24T16:00:00\",\"2022-09-24T17:00:00\",\"2022-09-24T18:00:00\",\"2022-09-24T19:00:00\",\"2022-09-24T20:00:00\",\"2022-09-24T21:00:00\",\"2022-09-24T22:00:00\",\"2022-09-24T23:00:00\",\"2022-09-25T00:00:00\",\"2022-09-25T01:00:00\",\"2022-09-25T02:00:00\",\"2022-09-25T03:00:00\",\"2022-09-25T04:00:00\",\"2022-09-25T05:00:00\",\"2022-09-25T06:00:00\",\"2022-09-25T07:00:00\",\"2022-09-25T08:00:00\",\"2022-09-25T09:00:00\",\"2022-09-25T10:00:00\",\"2022-09-25T11:00:00\",\"2022-09-25T12:00:00\",\"2022-09-25T13:00:00\",\"2022-09-25T14:00:00\",\"2022-09-25T15:00:00\",\"2022-09-25T16:00:00\",\"2022-09-25T17:00:00\",\"2022-09-25T18:00:00\",\"2022-09-25T19:00:00\",\"2022-09-25T20:00:00\",\"2022-09-25T21:00:00\",\"2022-09-25T22:00:00\",\"2022-09-25T23:00:00\",\"2022-09-26T00:00:00\",\"2022-09-26T01:00:00\"],\"xaxis\":\"x\",\"y\":[0.08895,0.4215,0.2307,0.0,0.38355,0.09875000000000003,0.49274999999999997,0.6705,null,-0.18975,0.1779,0.1591,null,0.03356666666666667,null,-0.3612,0.1779,0.1779,null,null,null,null,0.1779,null,0.309775,0.0772,0.11440000000000002,0.22630000000000003,0.11210000000000002,0.29769999999999996,-0.13316666666666668,-0.0258,null,null,0.18200000000000002,0.09732500000000001,0.1779,-0.0258,null,-0.296,null,null,null,null,null,null,null,0.0,0.47353333333333336,0.5574,0.7096,null,0.34,0.36765000000000003,-0.06425,null,null,null,0.08895,0.158,-0.1329,null,null,null,null,null,null,null,null,null,null,null,null,null,null,null,0.1909,-0.12019999999999997,null,null,null,null,null,0.1779,null,null,null,null,null,null,null,null,null,null,null,null,0.3612,0.2787,0.3818,null,0.0772,null,0.0,null,null,null,null,null,null,null,null,null,null,null,null,null,0.62485],\"yaxis\":\"y\",\"type\":\"bar\"}],                        {\"template\":{\"data\":{\"histogram2dcontour\":[{\"type\":\"histogram2dcontour\",\"colorbar\":{\"outlinewidth\":0,\"ticks\":\"\"},\"colorscale\":[[0.0,\"#0d0887\"],[0.1111111111111111,\"#46039f\"],[0.2222222222222222,\"#7201a8\"],[0.3333333333333333,\"#9c179e\"],[0.4444444444444444,\"#bd3786\"],[0.5555555555555556,\"#d8576b\"],[0.6666666666666666,\"#ed7953\"],[0.7777777777777778,\"#fb9f3a\"],[0.8888888888888888,\"#fdca26\"],[1.0,\"#f0f921\"]]}],\"choropleth\":[{\"type\":\"choropleth\",\"colorbar\":{\"outlinewidth\":0,\"ticks\":\"\"}}],\"histogram2d\":[{\"type\":\"histogram2d\",\"colorbar\":{\"outlinewidth\":0,\"ticks\":\"\"},\"colorscale\":[[0.0,\"#0d0887\"],[0.1111111111111111,\"#46039f\"],[0.2222222222222222,\"#7201a8\"],[0.3333333333333333,\"#9c179e\"],[0.4444444444444444,\"#bd3786\"],[0.5555555555555556,\"#d8576b\"],[0.6666666666666666,\"#ed7953\"],[0.7777777777777778,\"#fb9f3a\"],[0.8888888888888888,\"#fdca26\"],[1.0,\"#f0f921\"]]}],\"heatmap\":[{\"type\":\"heatmap\",\"colorbar\":{\"outlinewidth\":0,\"ticks\":\"\"},\"colorscale\":[[0.0,\"#0d0887\"],[0.1111111111111111,\"#46039f\"],[0.2222222222222222,\"#7201a8\"],[0.3333333333333333,\"#9c179e\"],[0.4444444444444444,\"#bd3786\"],[0.5555555555555556,\"#d8576b\"],[0.6666666666666666,\"#ed7953\"],[0.7777777777777778,\"#fb9f3a\"],[0.8888888888888888,\"#fdca26\"],[1.0,\"#f0f921\"]]}],\"heatmapgl\":[{\"type\":\"heatmapgl\",\"colorbar\":{\"outlinewidth\":0,\"ticks\":\"\"},\"colorscale\":[[0.0,\"#0d0887\"],[0.1111111111111111,\"#46039f\"],[0.2222222222222222,\"#7201a8\"],[0.3333333333333333,\"#9c179e\"],[0.4444444444444444,\"#bd3786\"],[0.5555555555555556,\"#d8576b\"],[0.6666666666666666,\"#ed7953\"],[0.7777777777777778,\"#fb9f3a\"],[0.8888888888888888,\"#fdca26\"],[1.0,\"#f0f921\"]]}],\"contourcarpet\":[{\"type\":\"contourcarpet\",\"colorbar\":{\"outlinewidth\":0,\"ticks\":\"\"}}],\"contour\":[{\"type\":\"contour\",\"colorbar\":{\"outlinewidth\":0,\"ticks\":\"\"},\"colorscale\":[[0.0,\"#0d0887\"],[0.1111111111111111,\"#46039f\"],[0.2222222222222222,\"#7201a8\"],[0.3333333333333333,\"#9c179e\"],[0.4444444444444444,\"#bd3786\"],[0.5555555555555556,\"#d8576b\"],[0.6666666666666666,\"#ed7953\"],[0.7777777777777778,\"#fb9f3a\"],[0.8888888888888888,\"#fdca26\"],[1.0,\"#f0f921\"]]}],\"surface\":[{\"type\":\"surface\",\"colorbar\":{\"outlinewidth\":0,\"ticks\":\"\"},\"colorscale\":[[0.0,\"#0d0887\"],[0.1111111111111111,\"#46039f\"],[0.2222222222222222,\"#7201a8\"],[0.3333333333333333,\"#9c179e\"],[0.4444444444444444,\"#bd3786\"],[0.5555555555555556,\"#d8576b\"],[0.6666666666666666,\"#ed7953\"],[0.7777777777777778,\"#fb9f3a\"],[0.8888888888888888,\"#fdca26\"],[1.0,\"#f0f921\"]]}],\"mesh3d\":[{\"type\":\"mesh3d\",\"colorbar\":{\"outlinewidth\":0,\"ticks\":\"\"}}],\"scatter\":[{\"fillpattern\":{\"fillmode\":\"overlay\",\"size\":10,\"solidity\":0.2},\"type\":\"scatter\"}],\"parcoords\":[{\"type\":\"parcoords\",\"line\":{\"colorbar\":{\"outlinewidth\":0,\"ticks\":\"\"}}}],\"scatterpolargl\":[{\"type\":\"scatterpolargl\",\"marker\":{\"colorbar\":{\"outlinewidth\":0,\"ticks\":\"\"}}}],\"bar\":[{\"error_x\":{\"color\":\"#2a3f5f\"},\"error_y\":{\"color\":\"#2a3f5f\"},\"marker\":{\"line\":{\"color\":\"#E5ECF6\",\"width\":0.5},\"pattern\":{\"fillmode\":\"overlay\",\"size\":10,\"solidity\":0.2}},\"type\":\"bar\"}],\"scattergeo\":[{\"type\":\"scattergeo\",\"marker\":{\"colorbar\":{\"outlinewidth\":0,\"ticks\":\"\"}}}],\"scatterpolar\":[{\"type\":\"scatterpolar\",\"marker\":{\"colorbar\":{\"outlinewidth\":0,\"ticks\":\"\"}}}],\"histogram\":[{\"marker\":{\"pattern\":{\"fillmode\":\"overlay\",\"size\":10,\"solidity\":0.2}},\"type\":\"histogram\"}],\"scattergl\":[{\"type\":\"scattergl\",\"marker\":{\"colorbar\":{\"outlinewidth\":0,\"ticks\":\"\"}}}],\"scatter3d\":[{\"type\":\"scatter3d\",\"line\":{\"colorbar\":{\"outlinewidth\":0,\"ticks\":\"\"}},\"marker\":{\"colorbar\":{\"outlinewidth\":0,\"ticks\":\"\"}}}],\"scattermapbox\":[{\"type\":\"scattermapbox\",\"marker\":{\"colorbar\":{\"outlinewidth\":0,\"ticks\":\"\"}}}],\"scatterternary\":[{\"type\":\"scatterternary\",\"marker\":{\"colorbar\":{\"outlinewidth\":0,\"ticks\":\"\"}}}],\"scattercarpet\":[{\"type\":\"scattercarpet\",\"marker\":{\"colorbar\":{\"outlinewidth\":0,\"ticks\":\"\"}}}],\"carpet\":[{\"aaxis\":{\"endlinecolor\":\"#2a3f5f\",\"gridcolor\":\"white\",\"linecolor\":\"white\",\"minorgridcolor\":\"white\",\"startlinecolor\":\"#2a3f5f\"},\"baxis\":{\"endlinecolor\":\"#2a3f5f\",\"gridcolor\":\"white\",\"linecolor\":\"white\",\"minorgridcolor\":\"white\",\"startlinecolor\":\"#2a3f5f\"},\"type\":\"carpet\"}],\"table\":[{\"cells\":{\"fill\":{\"color\":\"#EBF0F8\"},\"line\":{\"color\":\"white\"}},\"header\":{\"fill\":{\"color\":\"#C8D4E3\"},\"line\":{\"color\":\"white\"}},\"type\":\"table\"}],\"barpolar\":[{\"marker\":{\"line\":{\"color\":\"#E5ECF6\",\"width\":0.5},\"pattern\":{\"fillmode\":\"overlay\",\"size\":10,\"solidity\":0.2}},\"type\":\"barpolar\"}],\"pie\":[{\"automargin\":true,\"type\":\"pie\"}]},\"layout\":{\"autotypenumbers\":\"strict\",\"colorway\":[\"#636efa\",\"#EF553B\",\"#00cc96\",\"#ab63fa\",\"#FFA15A\",\"#19d3f3\",\"#FF6692\",\"#B6E880\",\"#FF97FF\",\"#FECB52\"],\"font\":{\"color\":\"#2a3f5f\"},\"hovermode\":\"closest\",\"hoverlabel\":{\"align\":\"left\"},\"paper_bgcolor\":\"white\",\"plot_bgcolor\":\"#E5ECF6\",\"polar\":{\"bgcolor\":\"#E5ECF6\",\"angularaxis\":{\"gridcolor\":\"white\",\"linecolor\":\"white\",\"ticks\":\"\"},\"radialaxis\":{\"gridcolor\":\"white\",\"linecolor\":\"white\",\"ticks\":\"\"}},\"ternary\":{\"bgcolor\":\"#E5ECF6\",\"aaxis\":{\"gridcolor\":\"white\",\"linecolor\":\"white\",\"ticks\":\"\"},\"baxis\":{\"gridcolor\":\"white\",\"linecolor\":\"white\",\"ticks\":\"\"},\"caxis\":{\"gridcolor\":\"white\",\"linecolor\":\"white\",\"ticks\":\"\"}},\"coloraxis\":{\"colorbar\":{\"outlinewidth\":0,\"ticks\":\"\"}},\"colorscale\":{\"sequential\":[[0.0,\"#0d0887\"],[0.1111111111111111,\"#46039f\"],[0.2222222222222222,\"#7201a8\"],[0.3333333333333333,\"#9c179e\"],[0.4444444444444444,\"#bd3786\"],[0.5555555555555556,\"#d8576b\"],[0.6666666666666666,\"#ed7953\"],[0.7777777777777778,\"#fb9f3a\"],[0.8888888888888888,\"#fdca26\"],[1.0,\"#f0f921\"]],\"sequentialminus\":[[0.0,\"#0d0887\"],[0.1111111111111111,\"#46039f\"],[0.2222222222222222,\"#7201a8\"],[0.3333333333333333,\"#9c179e\"],[0.4444444444444444,\"#bd3786\"],[0.5555555555555556,\"#d8576b\"],[0.6666666666666666,\"#ed7953\"],[0.7777777777777778,\"#fb9f3a\"],[0.8888888888888888,\"#fdca26\"],[1.0,\"#f0f921\"]],\"diverging\":[[0,\"#8e0152\"],[0.1,\"#c51b7d\"],[0.2,\"#de77ae\"],[0.3,\"#f1b6da\"],[0.4,\"#fde0ef\"],[0.5,\"#f7f7f7\"],[0.6,\"#e6f5d0\"],[0.7,\"#b8e186\"],[0.8,\"#7fbc41\"],[0.9,\"#4d9221\"],[1,\"#276419\"]]},\"xaxis\":{\"gridcolor\":\"white\",\"linecolor\":\"white\",\"ticks\":\"\",\"title\":{\"standoff\":15},\"zerolinecolor\":\"white\",\"automargin\":true,\"zerolinewidth\":2},\"yaxis\":{\"gridcolor\":\"white\",\"linecolor\":\"white\",\"ticks\":\"\",\"title\":{\"standoff\":15},\"zerolinecolor\":\"white\",\"automargin\":true,\"zerolinewidth\":2},\"scene\":{\"xaxis\":{\"backgroundcolor\":\"#E5ECF6\",\"gridcolor\":\"white\",\"linecolor\":\"white\",\"showbackground\":true,\"ticks\":\"\",\"zerolinecolor\":\"white\",\"gridwidth\":2},\"yaxis\":{\"backgroundcolor\":\"#E5ECF6\",\"gridcolor\":\"white\",\"linecolor\":\"white\",\"showbackground\":true,\"ticks\":\"\",\"zerolinecolor\":\"white\",\"gridwidth\":2},\"zaxis\":{\"backgroundcolor\":\"#E5ECF6\",\"gridcolor\":\"white\",\"linecolor\":\"white\",\"showbackground\":true,\"ticks\":\"\",\"zerolinecolor\":\"white\",\"gridwidth\":2}},\"shapedefaults\":{\"line\":{\"color\":\"#2a3f5f\"}},\"annotationdefaults\":{\"arrowcolor\":\"#2a3f5f\",\"arrowhead\":0,\"arrowwidth\":1},\"geo\":{\"bgcolor\":\"white\",\"landcolor\":\"#E5ECF6\",\"subunitcolor\":\"white\",\"showland\":true,\"showlakes\":true,\"lakecolor\":\"white\"},\"title\":{\"x\":0.05},\"mapbox\":{\"style\":\"light\"}}},\"xaxis\":{\"anchor\":\"y\",\"domain\":[0.0,1.0],\"title\":{\"text\":\"datetime\"}},\"yaxis\":{\"anchor\":\"x\",\"domain\":[0.0,1.0],\"title\":{\"text\":\"sentiment_score\"}},\"legend\":{\"tracegroupgap\":0},\"title\":{\"text\":\"AMZN Hourly Sentiment Scores\"},\"barmode\":\"relative\"},                        {\"responsive\": true}                    ).then(function(){\n",
       "                            \n",
       "var gd = document.getElementById('a69091ea-0657-451d-82d1-2ac173015af3');\n",
       "var x = new MutationObserver(function (mutations, observer) {{\n",
       "        var display = window.getComputedStyle(gd).display;\n",
       "        if (!display || display === 'none') {{\n",
       "            console.log([gd, 'removed!']);\n",
       "            Plotly.purge(gd);\n",
       "            observer.disconnect();\n",
       "        }}\n",
       "}});\n",
       "\n",
       "// Listen for the removal of the full notebook cells\n",
       "var notebookContainer = gd.closest('#notebook-container');\n",
       "if (notebookContainer) {{\n",
       "    x.observe(notebookContainer, {childList: true});\n",
       "}}\n",
       "\n",
       "// Listen for the clearing of the current output cell\n",
       "var outputEl = gd.closest('.output');\n",
       "if (outputEl) {{\n",
       "    x.observe(outputEl, {childList: true});\n",
       "}}\n",
       "\n",
       "                        })                };                });            </script>        </div>"
      ]
     },
     "metadata": {},
     "output_type": "display_data"
    },
    {
     "data": {
      "text/html": [
       "<div>\n",
       "<style scoped>\n",
       "    .dataframe tbody tr th:only-of-type {\n",
       "        vertical-align: middle;\n",
       "    }\n",
       "\n",
       "    .dataframe tbody tr th {\n",
       "        vertical-align: top;\n",
       "    }\n",
       "\n",
       "    .dataframe thead th {\n",
       "        text-align: right;\n",
       "    }\n",
       "</style>\n",
       "<table border=\"1\" class=\"dataframe\">\n",
       "  <thead>\n",
       "    <tr style=\"text-align: right;\">\n",
       "      <th></th>\n",
       "      <th>headline</th>\n",
       "      <th>neg</th>\n",
       "      <th>neu</th>\n",
       "      <th>pos</th>\n",
       "      <th>sentiment_score</th>\n",
       "    </tr>\n",
       "    <tr>\n",
       "      <th>datetime</th>\n",
       "      <th></th>\n",
       "      <th></th>\n",
       "      <th></th>\n",
       "      <th></th>\n",
       "      <th></th>\n",
       "    </tr>\n",
       "  </thead>\n",
       "  <tbody>\n",
       "    <tr>\n",
       "      <th>2022-09-26 01:16:00</th>\n",
       "      <td>Tech Stocks Face Another 10% Drop or More as S...</td>\n",
       "      <td>0.113</td>\n",
       "      <td>0.538</td>\n",
       "      <td>0.349</td>\n",
       "      <td>0.6573</td>\n",
       "    </tr>\n",
       "    <tr>\n",
       "      <th>2022-09-26 01:08:00</th>\n",
       "      <td>Amazon to hold mid-October sale to capture mor...</td>\n",
       "      <td>0.000</td>\n",
       "      <td>0.630</td>\n",
       "      <td>0.370</td>\n",
       "      <td>0.5709</td>\n",
       "    </tr>\n",
       "    <tr>\n",
       "      <th>2022-09-26 01:01:00</th>\n",
       "      <td>Amazon to hold mid-October sale to capture mor...</td>\n",
       "      <td>0.000</td>\n",
       "      <td>0.630</td>\n",
       "      <td>0.370</td>\n",
       "      <td>0.5709</td>\n",
       "    </tr>\n",
       "    <tr>\n",
       "      <th>2022-09-26 01:00:00</th>\n",
       "      <td>Introducing Amazons Prime Early Access SaleA N...</td>\n",
       "      <td>0.046</td>\n",
       "      <td>0.708</td>\n",
       "      <td>0.246</td>\n",
       "      <td>0.7003</td>\n",
       "    </tr>\n",
       "    <tr>\n",
       "      <th>2022-09-25 11:32:00</th>\n",
       "      <td>5 Things That Are Overpriced at Costco</td>\n",
       "      <td>0.000</td>\n",
       "      <td>1.000</td>\n",
       "      <td>0.000</td>\n",
       "      <td>0.0000</td>\n",
       "    </tr>\n",
       "  </tbody>\n",
       "</table>\n",
       "</div>"
      ],
      "text/plain": [
       "                                                              headline    neg  \\\n",
       "datetime                                                                        \n",
       "2022-09-26 01:16:00  Tech Stocks Face Another 10% Drop or More as S...  0.113   \n",
       "2022-09-26 01:08:00  Amazon to hold mid-October sale to capture mor...  0.000   \n",
       "2022-09-26 01:01:00  Amazon to hold mid-October sale to capture mor...  0.000   \n",
       "2022-09-26 01:00:00  Introducing Amazons Prime Early Access SaleA N...  0.046   \n",
       "2022-09-25 11:32:00             5 Things That Are Overpriced at Costco  0.000   \n",
       "\n",
       "                       neu    pos  sentiment_score  \n",
       "datetime                                            \n",
       "2022-09-26 01:16:00  0.538  0.349           0.6573  \n",
       "2022-09-26 01:08:00  0.630  0.370           0.5709  \n",
       "2022-09-26 01:01:00  0.630  0.370           0.5709  \n",
       "2022-09-26 01:00:00  0.708  0.246           0.7003  \n",
       "2022-09-25 11:32:00  1.000  0.000           0.0000  "
      ]
     },
     "execution_count": 7,
     "metadata": {},
     "output_type": "execute_result"
    }
   ],
   "source": [
    "ticker = 'AMZN'\n",
    "news_table = get_news(ticker)\n",
    "parsed_news_df = parse_news(news_table)\n",
    "parsed_and_scored_news = score_news(parsed_news_df)\n",
    "plot_hourly_sentiment(parsed_and_scored_news, ticker)\n",
    "parsed_and_scored_news.head()"
   ]
  },
  {
   "cell_type": "code",
   "execution_count": null,
   "id": "91312929",
   "metadata": {},
   "outputs": [],
   "source": []
  }
 ],
 "metadata": {
  "kernelspec": {
   "display_name": "Python 3.10.4 64-bit",
   "language": "python",
   "name": "python3"
  },
  "language_info": {
   "codemirror_mode": {
    "name": "ipython",
    "version": 3
   },
   "file_extension": ".py",
   "mimetype": "text/x-python",
   "name": "python",
   "nbconvert_exporter": "python",
   "pygments_lexer": "ipython3",
   "version": "3.10.4"
  },
  "vscode": {
   "interpreter": {
    "hash": "bbc3c3d932324566a9bf4b4a52ddf64063695fc3adbf25b3fda92572428493bb"
   }
  }
 },
 "nbformat": 4,
 "nbformat_minor": 5
}
